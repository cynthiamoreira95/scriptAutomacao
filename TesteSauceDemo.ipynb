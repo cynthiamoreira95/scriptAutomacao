{
 "cells": [
  {
   "cell_type": "code",
   "execution_count": 108,
   "id": "43d73f25",
   "metadata": {},
   "outputs": [],
   "source": [
    "from selenium import webdriver\n",
    "from webdriver_manager.chrome import ChromeDriverManager\n",
    "from selenium.webdriver.chrome.service import Service\n",
    "from selenium.webdriver.support.ui import Select\n",
    "import time as time\n",
    "\n",
    "servico = Service(ChromeDriverManager().install())\n",
    "\n",
    "navegador = webdriver.Chrome(service=servico)\n",
    "\n",
    "navegador.get(\"https://www.saucedemo.com\")\n",
    "navegador.find_element('xpath','//*[@id=\"user-name\"]').send_keys('standard_user')\n",
    "navegador.find_element('xpath','//*[@id=\"password\"]').send_keys('secret_sauce')\n",
    "navegador.find_element('xpath','//*[@id=\"login-button\"]').click()\n",
    "navegador.find_element('xpath', '//*[@id=\"header_container\"]/div[2]/div[2]/span/select').click()\n",
    "navegador.find_element('xpath','//*[@id=\"header_container\"]/div[2]/div[2]/span/select/option[3]').click()\n",
    "navegador.find_element('xpath','//*[@id=\"add-to-cart-sauce-labs-onesie\"]').click()\n",
    "navegador.find_element('xpath', '//*[@id=\"add-to-cart-test.allthethings()-t-shirt-(red)\"]').click()\n",
    "navegador.find_element('xpath', '//*[@id=\"shopping_cart_container\"]/a/span').click()\n",
    "navegador.find_element('xpath','//*[@id=\"checkout\"]').click()\n",
    "navegador.find_element('xpath','//*[@id=\"first-name\"]').send_keys('Cynthia')\n",
    "navegador.find_element('xpath','//*[@id=\"last-name\"]').send_keys('Moreira')\n",
    "navegador.find_element('xpath','//*[@id=\"postal-code\"]').send_keys('06506-045')\n",
    "navegador.find_element('xpath','//*[@id=\"continue\"]').click()\n",
    "navegador.execute_script('window.scroll(0, 250)')\n",
    "navegador.find_element('xpath','//*[@id=\"finish\"]').click()\n",
    "navegador.execute_script('window.scroll(0,0)')\n",
    "navegador.save_screenshot('saucedemo.png')\n",
    "navegador.save_screenshot('C:/Users/User/TesteSauceDemo/saucedemo.png')\n",
    "\n",
    "navegador.close()"
   ]
  },
  {
   "cell_type": "code",
   "execution_count": null,
   "id": "b6b3df48",
   "metadata": {
    "scrolled": true
   },
   "outputs": [],
   "source": []
  },
  {
   "cell_type": "code",
   "execution_count": null,
   "id": "99391650",
   "metadata": {},
   "outputs": [],
   "source": []
  }
 ],
 "metadata": {
  "kernelspec": {
   "display_name": "Python 3 (ipykernel)",
   "language": "python",
   "name": "python3"
  },
  "language_info": {
   "codemirror_mode": {
    "name": "ipython",
    "version": 3
   },
   "file_extension": ".py",
   "mimetype": "text/x-python",
   "name": "python",
   "nbconvert_exporter": "python",
   "pygments_lexer": "ipython3",
   "version": "3.9.12"
  }
 },
 "nbformat": 4,
 "nbformat_minor": 5
}
